{
 "cells": [
  {
   "cell_type": "code",
   "execution_count": 1,
   "id": "5f05c557",
   "metadata": {},
   "outputs": [],
   "source": [
    "import numpy as np\n",
    "import pandas as pd\n",
    "import seaborn as sns\n",
    "import scipy.stats as stats\n",
    "from scipy.stats import ttest_1samp, shapiro, ttest_ind, levene\n",
    "import matplotlib.pyplot as plt\n",
    "import warnings\n",
    "warnings.filterwarnings('ignore')"
   ]
  },
  {
   "cell_type": "markdown",
   "id": "7549a79a",
   "metadata": {},
   "source": [
    "# An important quality characteristic used by the manufacturers of ABC asphalt shingles is the amount of moisture the shingles contain when they are packaged. Customers may feel that they have purchased a product lacking in quality if they find moisture and wet shingles inside the packaging.   In some cases, excessive moisture can cause the granules attached to the shingles for texture and coloring purposes to fall off the shingles resulting in appearance problems. To monitor the amount of moisture present, the company conducts moisture tests. A shingle is weighed and then dried. The shingle is then reweighed, and based on the amount of moisture taken out of the product, the pounds of moisture per 100 square feet are calculated. The company would like to show that the mean moisture content is less than 0.35 pounds per 100 square feet.The file (A & B shingles.csv) includes 36 measurements (in pounds per 100 square feet) for A shingles and 31 for B shingles."
   ]
  },
  {
   "cell_type": "markdown",
   "id": "85d7dc44",
   "metadata": {},
   "source": [
    "# 1. Do you think there is evidence that means moisture contents in both types of shingles are within the permissible limits? State your conclusions clearly showing all steps."
   ]
  },
  {
   "cell_type": "code",
   "execution_count": 69,
   "id": "c6df6031",
   "metadata": {},
   "outputs": [
    {
     "data": {
      "text/html": [
       "<div>\n",
       "<style scoped>\n",
       "    .dataframe tbody tr th:only-of-type {\n",
       "        vertical-align: middle;\n",
       "    }\n",
       "\n",
       "    .dataframe tbody tr th {\n",
       "        vertical-align: top;\n",
       "    }\n",
       "\n",
       "    .dataframe thead th {\n",
       "        text-align: right;\n",
       "    }\n",
       "</style>\n",
       "<table border=\"1\" class=\"dataframe\">\n",
       "  <thead>\n",
       "    <tr style=\"text-align: right;\">\n",
       "      <th></th>\n",
       "      <th>A</th>\n",
       "      <th>B</th>\n",
       "    </tr>\n",
       "  </thead>\n",
       "  <tbody>\n",
       "    <tr>\n",
       "      <th>0</th>\n",
       "      <td>0.44</td>\n",
       "      <td>0.14</td>\n",
       "    </tr>\n",
       "    <tr>\n",
       "      <th>1</th>\n",
       "      <td>0.61</td>\n",
       "      <td>0.15</td>\n",
       "    </tr>\n",
       "    <tr>\n",
       "      <th>2</th>\n",
       "      <td>0.47</td>\n",
       "      <td>0.31</td>\n",
       "    </tr>\n",
       "    <tr>\n",
       "      <th>3</th>\n",
       "      <td>0.30</td>\n",
       "      <td>0.16</td>\n",
       "    </tr>\n",
       "    <tr>\n",
       "      <th>4</th>\n",
       "      <td>0.15</td>\n",
       "      <td>0.37</td>\n",
       "    </tr>\n",
       "  </tbody>\n",
       "</table>\n",
       "</div>"
      ],
      "text/plain": [
       "      A     B\n",
       "0  0.44  0.14\n",
       "1  0.61  0.15\n",
       "2  0.47  0.31\n",
       "3  0.30  0.16\n",
       "4  0.15  0.37"
      ]
     },
     "execution_count": 69,
     "metadata": {},
     "output_type": "execute_result"
    }
   ],
   "source": [
    "df3=pd.read_csv('A+&+B+shingles.csv')\n",
    "df3.head()"
   ]
  },
  {
   "cell_type": "code",
   "execution_count": 70,
   "id": "c98d180b",
   "metadata": {},
   "outputs": [
    {
     "data": {
      "text/html": [
       "<div>\n",
       "<style scoped>\n",
       "    .dataframe tbody tr th:only-of-type {\n",
       "        vertical-align: middle;\n",
       "    }\n",
       "\n",
       "    .dataframe tbody tr th {\n",
       "        vertical-align: top;\n",
       "    }\n",
       "\n",
       "    .dataframe thead th {\n",
       "        text-align: right;\n",
       "    }\n",
       "</style>\n",
       "<table border=\"1\" class=\"dataframe\">\n",
       "  <thead>\n",
       "    <tr style=\"text-align: right;\">\n",
       "      <th></th>\n",
       "      <th>count</th>\n",
       "      <th>mean</th>\n",
       "      <th>std</th>\n",
       "      <th>min</th>\n",
       "      <th>25%</th>\n",
       "      <th>50%</th>\n",
       "      <th>75%</th>\n",
       "      <th>max</th>\n",
       "    </tr>\n",
       "  </thead>\n",
       "  <tbody>\n",
       "    <tr>\n",
       "      <th>A</th>\n",
       "      <td>36.0</td>\n",
       "      <td>0.316667</td>\n",
       "      <td>0.135731</td>\n",
       "      <td>0.13</td>\n",
       "      <td>0.2075</td>\n",
       "      <td>0.29</td>\n",
       "      <td>0.3925</td>\n",
       "      <td>0.72</td>\n",
       "    </tr>\n",
       "    <tr>\n",
       "      <th>B</th>\n",
       "      <td>31.0</td>\n",
       "      <td>0.273548</td>\n",
       "      <td>0.137296</td>\n",
       "      <td>0.10</td>\n",
       "      <td>0.1600</td>\n",
       "      <td>0.23</td>\n",
       "      <td>0.4000</td>\n",
       "      <td>0.58</td>\n",
       "    </tr>\n",
       "  </tbody>\n",
       "</table>\n",
       "</div>"
      ],
      "text/plain": [
       "   count      mean       std   min     25%   50%     75%   max\n",
       "A   36.0  0.316667  0.135731  0.13  0.2075  0.29  0.3925  0.72\n",
       "B   31.0  0.273548  0.137296  0.10  0.1600  0.23  0.4000  0.58"
      ]
     },
     "execution_count": 70,
     "metadata": {},
     "output_type": "execute_result"
    }
   ],
   "source": [
    "df3.describe().T"
   ]
  },
  {
   "cell_type": "code",
   "execution_count": 71,
   "id": "c7fce623",
   "metadata": {},
   "outputs": [
    {
     "name": "stdout",
     "output_type": "stream",
     "text": [
      "<class 'pandas.core.frame.DataFrame'>\n",
      "RangeIndex: 36 entries, 0 to 35\n",
      "Data columns (total 2 columns):\n",
      " #   Column  Non-Null Count  Dtype  \n",
      "---  ------  --------------  -----  \n",
      " 0   A       36 non-null     float64\n",
      " 1   B       31 non-null     float64\n",
      "dtypes: float64(2)\n",
      "memory usage: 704.0 bytes\n"
     ]
    }
   ],
   "source": [
    "df3.info()"
   ]
  },
  {
   "cell_type": "markdown",
   "id": "06519d33",
   "metadata": {},
   "source": [
    "# A Shingles"
   ]
  },
  {
   "cell_type": "code",
   "execution_count": 72,
   "id": "bdd3c8ca",
   "metadata": {},
   "outputs": [
    {
     "data": {
      "text/plain": [
       "0.3166666666666666"
      ]
     },
     "execution_count": 72,
     "metadata": {},
     "output_type": "execute_result"
    }
   ],
   "source": [
    "df3['A'].mean()"
   ]
  },
  {
   "cell_type": "code",
   "execution_count": 73,
   "id": "ac3b95cc",
   "metadata": {},
   "outputs": [
    {
     "data": {
      "text/plain": [
       "0.13573082605973166"
      ]
     },
     "execution_count": 73,
     "metadata": {},
     "output_type": "execute_result"
    }
   ],
   "source": [
    "df3['A'].std()"
   ]
  },
  {
   "cell_type": "markdown",
   "id": "e0c8065f",
   "metadata": {},
   "source": [
    "- **Given:- n=36, mu(population mean)=0.35, xbar=3.167, std=0.135, Assuming alpha = 0.05**"
   ]
  },
  {
   "cell_type": "markdown",
   "id": "2b0a3efe",
   "metadata": {},
   "source": [
    "## Step 1"
   ]
  },
  {
   "cell_type": "markdown",
   "id": "2b88405e",
   "metadata": {},
   "source": [
    "- **Defining NULL and Alternate Hypothesis.**"
   ]
  },
  {
   "cell_type": "markdown",
   "id": "e0cfe7e5",
   "metadata": {},
   "source": [
    "- H0 : mean moisture content <=0.35\n",
    "- HA : mean moisture content > 0.35"
   ]
  },
  {
   "cell_type": "markdown",
   "id": "28e66602",
   "metadata": {},
   "source": [
    "## Step 2 \n",
    "#### Identifying test statistic"
   ]
  },
  {
   "cell_type": "markdown",
   "id": "d4a4e6f3",
   "metadata": {},
   "source": [
    "- It is a one sample t-test"
   ]
  },
  {
   "cell_type": "markdown",
   "id": "21e49a48",
   "metadata": {},
   "source": [
    "## Step 3\n",
    "#### As the population standard deviation is not given/known we are cannot use z-test, so we use one sample t-test. hence we calculate t-statistic and p-value."
   ]
  },
  {
   "cell_type": "code",
   "execution_count": 74,
   "id": "45e29949",
   "metadata": {},
   "outputs": [
    {
     "name": "stdout",
     "output_type": "stream",
     "text": [
      "One sample t test \n",
      "t statistic: -1.4735046253382782 p value: 0.9252236685509249 \n"
     ]
    }
   ],
   "source": [
    "t_statistic, p_value = ttest_1samp(df3['A'], 0.35, alternative='greater' )\n",
    "print('One sample t test \\nt statistic: {0} p value: {1} '.format(t_statistic, p_value))"
   ]
  },
  {
   "cell_type": "markdown",
   "id": "a853277a",
   "metadata": {},
   "source": [
    "## Step 4 "
   ]
  },
  {
   "cell_type": "markdown",
   "id": "e90df2f0",
   "metadata": {},
   "source": [
    "#### Decide to reject or accept null hypothesis. "
   ]
  },
  {
   "cell_type": "markdown",
   "id": "8d705caf",
   "metadata": {},
   "source": [
    "- By using t-test_1samp we found that P-Value is greater than alpha, which is 0.925 > 0.05.\n",
    "- Therefore we failed to reject the null hypothesis H0."
   ]
  },
  {
   "cell_type": "markdown",
   "id": "32d62b01",
   "metadata": {},
   "source": [
    "# B Shingles"
   ]
  },
  {
   "cell_type": "code",
   "execution_count": 75,
   "id": "929c6994",
   "metadata": {},
   "outputs": [
    {
     "data": {
      "text/plain": [
       "0.2735483870967742"
      ]
     },
     "execution_count": 75,
     "metadata": {},
     "output_type": "execute_result"
    }
   ],
   "source": [
    "df3['B'].mean()"
   ]
  },
  {
   "cell_type": "code",
   "execution_count": 76,
   "id": "5c675c90",
   "metadata": {},
   "outputs": [
    {
     "data": {
      "text/plain": [
       "0.13729647694185443"
      ]
     },
     "execution_count": 76,
     "metadata": {},
     "output_type": "execute_result"
    }
   ],
   "source": [
    "df3['B'].std()"
   ]
  },
  {
   "cell_type": "markdown",
   "id": "a5410907",
   "metadata": {},
   "source": [
    "- **Given:- n=31, mu(population mean)=0.35, xbar=0.273, std=0.137, Assuming alpha = 0.05**"
   ]
  },
  {
   "cell_type": "markdown",
   "id": "6733703b",
   "metadata": {},
   "source": [
    "## Step 1"
   ]
  },
  {
   "cell_type": "markdown",
   "id": "a974c3f5",
   "metadata": {},
   "source": [
    "- Defining NULL and Alternate Hypothesis."
   ]
  },
  {
   "cell_type": "markdown",
   "id": "b121dfc5",
   "metadata": {},
   "source": [
    "- H0 : mean moisture content <=0.35\n",
    "- HA : mean moisture content > 0.35"
   ]
  },
  {
   "cell_type": "markdown",
   "id": "4420e4f8",
   "metadata": {},
   "source": [
    "## Step 2 \n",
    "#### Identifying test statistic"
   ]
  },
  {
   "cell_type": "markdown",
   "id": "15d4e77c",
   "metadata": {},
   "source": [
    "- It is a one sample t-test"
   ]
  },
  {
   "cell_type": "markdown",
   "id": "c90b9b02",
   "metadata": {},
   "source": [
    "## Step 3\n",
    "#### Calculating P-Value and test statistics"
   ]
  },
  {
   "cell_type": "code",
   "execution_count": 77,
   "id": "e0dfd484",
   "metadata": {},
   "outputs": [
    {
     "name": "stdout",
     "output_type": "stream",
     "text": [
      "One sample t test \n",
      "t statistic: -3.1003313069986995 p value: 0.9979095225996808 \n"
     ]
    }
   ],
   "source": [
    "t_statistic, p_value = ttest_1samp(df3['B'].dropna(), 0.35, alternative='greater' )\n",
    "print('One sample t test \\nt statistic: {0} p value: {1} '.format(t_statistic, p_value))"
   ]
  },
  {
   "cell_type": "markdown",
   "id": "ca8dcd65",
   "metadata": {},
   "source": [
    "## Step 4 \n",
    "#### Decide to reject or accept null hypothesis. "
   ]
  },
  {
   "cell_type": "markdown",
   "id": "a979e667",
   "metadata": {},
   "source": [
    "- By using t-test_1samp we found that P-Value is greater than alpha, which is 0.997 > 0.05.\n",
    "- Therefore we failed to reject the null hypothesis H0."
   ]
  },
  {
   "cell_type": "markdown",
   "id": "6022e561",
   "metadata": {},
   "source": [
    "# 2. Do you think that the population mean for shingles A and B are equal? Form the hypothesis and conduct the test of the hypothesis. What assumption do you need to check before the test for equality of means is performed?"
   ]
  },
  {
   "cell_type": "markdown",
   "id": "e0e39e29",
   "metadata": {},
   "source": [
    "## Step 1\n",
    "- (A shingles) Given:- n=36, mu(population mean)=0.35, xbar=3.167, std=0.135, Assuming alpha = 0.05\n",
    "- (B shingles) Given:- n=31, mu(population mean)=0.35, xbar=0.237, std=0.137, Assuming alpha = 0.05"
   ]
  },
  {
   "cell_type": "markdown",
   "id": "fff8be14",
   "metadata": {},
   "source": [
    "## Step 2\n",
    "- Defining NULL and Alternate Hypothesis."
   ]
  },
  {
   "cell_type": "markdown",
   "id": "9c1d50d0",
   "metadata": {},
   "source": [
    "#### H0 is muA=muB\n",
    "#### HA is muA!=muB\n"
   ]
  },
  {
   "cell_type": "markdown",
   "id": "7a95393a",
   "metadata": {},
   "source": [
    "## Step 3\n",
    "- Since the population mean (mu=0.35) is equal for both the samples, so it is Two-sampled test.\n",
    "- Both the samples are independent, so we will perform t-test_ind."
   ]
  },
  {
   "cell_type": "code",
   "execution_count": 78,
   "id": "c38370bf",
   "metadata": {},
   "outputs": [
    {
     "name": "stdout",
     "output_type": "stream",
     "text": [
      "Two sample t test \n",
      "t statistic: 1.2896282719661123 p value: 0.2017496571835306 \n"
     ]
    }
   ],
   "source": [
    "t_statistic, p_value = ttest_ind(df3['A'],df3['B'], nan_policy='omit')\n",
    "print('Two sample t test \\nt statistic: {0} p value: {1} '.format(t_statistic, p_value))"
   ]
  },
  {
   "cell_type": "markdown",
   "id": "33bb2c25",
   "metadata": {},
   "source": [
    "- Here we found the p-value which is greater than alpha, so we failed to reject the null hypothesis.\n",
    "- Though we Accept the null hypothesis."
   ]
  },
  {
   "cell_type": "markdown",
   "id": "6cfdc40a",
   "metadata": {},
   "source": [
    "## Checking for equality whether data is equally distributed or not.\n",
    "\n",
    "- H0 is muA=muB\n",
    "- HA is muA!=muB"
   ]
  },
  {
   "cell_type": "code",
   "execution_count": 79,
   "id": "3831b7d8",
   "metadata": {},
   "outputs": [
    {
     "data": {
      "text/plain": [
       "ShapiroResult(statistic=0.9375598430633545, pvalue=0.042670514434576035)"
      ]
     },
     "execution_count": 79,
     "metadata": {},
     "output_type": "execute_result"
    }
   ],
   "source": [
    "shapiro(df3['A'])"
   ]
  },
  {
   "cell_type": "code",
   "execution_count": 80,
   "id": "9f1a8792",
   "metadata": {},
   "outputs": [
    {
     "data": {
      "text/plain": [
       "ShapiroResult(statistic=0.9375598430633545, pvalue=0.042670514434576035)"
      ]
     },
     "execution_count": 80,
     "metadata": {},
     "output_type": "execute_result"
    }
   ],
   "source": [
    "shapiro(df3['A'].dropna())"
   ]
  },
  {
   "cell_type": "markdown",
   "id": "b1f8808d",
   "metadata": {},
   "source": [
    "### Using Shapiro test we can see that p-value is less than alpha i.e 0.0426 < 0.05 \n",
    "### So we don't  have enough evidence to prove the data as a normal distribution."
   ]
  },
  {
   "cell_type": "code",
   "execution_count": 86,
   "id": "a9743521",
   "metadata": {},
   "outputs": [
    {
     "data": {
      "text/plain": [
       "LeveneResult(statistic=0.23808965111555147, pvalue=0.6272312061867605)"
      ]
     },
     "execution_count": 86,
     "metadata": {},
     "output_type": "execute_result"
    }
   ],
   "source": [
    "levene(df3['A'],df3['B'].dropna())"
   ]
  }
 ],
 "metadata": {
  "kernelspec": {
   "display_name": "Python 3 (ipykernel)",
   "language": "python",
   "name": "python3"
  },
  "language_info": {
   "codemirror_mode": {
    "name": "ipython",
    "version": 3
   },
   "file_extension": ".py",
   "mimetype": "text/x-python",
   "name": "python",
   "nbconvert_exporter": "python",
   "pygments_lexer": "ipython3",
   "version": "3.9.12"
  }
 },
 "nbformat": 4,
 "nbformat_minor": 5
}
